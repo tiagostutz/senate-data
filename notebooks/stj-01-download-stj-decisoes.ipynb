{
 "cells": [
  {
   "cell_type": "markdown",
   "metadata": {},
   "source": [
    "### Download PDFs"
   ]
  },
  {
   "cell_type": "code",
   "execution_count": 1,
   "metadata": {},
   "outputs": [],
   "source": [
    "import os\n",
    "if not os.path.exists('output/stj-decisoes'):\n",
    "    os.makedirs('output/stj-decisoes')"
   ]
  },
  {
   "cell_type": "code",
   "execution_count": null,
   "metadata": {},
   "outputs": [
    {
     "name": "stdout",
     "output_type": "stream",
     "text": [
      "trying... 84171453\n"
     ]
    }
   ],
   "source": [
    "import modules.downloadutils as downloadutils\n",
    "import requests\n",
    "import sys\n",
    "\n",
    "# r = requests.get('https://ww2.stj.jus.br/websecstj/cgi/revista/REJ.cgi/MON?seq=84181150')\n",
    "# with open('output/stj-decisoes/test.pdf', 'wb') as file:\n",
    "#     file.write(r.content)\n",
    "# print('DONE')\n",
    "\n",
    "for seq in range(84171453, 84171473):  \n",
    "    try:\n",
    "        print('trying... '+str(seq))\n",
    "        downloadutils.download_file('https://ww2.stj.jus.br/websecstj/cgi/revista/REJ.cgi/MON?seq=' + str(seq), 'output/stj-decisoes/decisao-' + str(seq) + '.pdf', 'application/pdf')\n",
    "        print('downloaded : '+str(seq))\n",
    "        sys.stdout.write('.')\n",
    "    except Exception as e:\n",
    "        print(str(seq) + ': ' + str(e))"
   ]
  },
  {
   "cell_type": "code",
   "execution_count": null,
   "metadata": {},
   "outputs": [],
   "source": []
  }
 ],
 "metadata": {
  "kernelspec": {
   "display_name": "Python 3",
   "language": "python",
   "name": "python3"
  },
  "language_info": {
   "codemirror_mode": {
    "name": "ipython",
    "version": 3
   },
   "file_extension": ".py",
   "mimetype": "text/x-python",
   "name": "python",
   "nbconvert_exporter": "python",
   "pygments_lexer": "ipython3",
   "version": "3.5.2"
  }
 },
 "nbformat": 4,
 "nbformat_minor": 2
}
