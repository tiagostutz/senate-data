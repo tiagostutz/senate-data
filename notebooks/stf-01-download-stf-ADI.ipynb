{
 "cells": [
  {
   "cell_type": "markdown",
   "metadata": {},
   "source": [
    "### Download PDFs"
   ]
  },
  {
   "cell_type": "code",
   "execution_count": 1,
   "metadata": {},
   "outputs": [],
   "source": [
    "import os\n",
    "from pprint import pprint\n",
    "\n",
    "if not os.path.exists('output/stf-adi'):\n",
    "    os.makedirs('output/stf-adi')"
   ]
  },
  {
   "cell_type": "code",
   "execution_count": 2,
   "metadata": {},
   "outputs": [
    {
     "name": "stdout",
     "output_type": "stream",
     "text": [
      "Loaded 177 ADIs\n",
      "Random example: ADI 5787 - MIN. LUIZ FUX / ['DIREITO ADMINISTRATIVO E OUTRAS MATÉRIAS DE DIREITO PÚBLICO', 'Política fundiária e da reforma agrária']\n"
     ]
    }
   ],
   "source": [
    "import zipfile\n",
    "import json\n",
    "import random\n",
    "\n",
    "zipRef = zipfile.ZipFile('input/stf_adi-2017.zip', 'r')\n",
    "zipInfos = zipRef.infolist()\n",
    " \n",
    "for zipInfo in zipInfos:\n",
    "    zipInfo.filename = 'input/stf_adi-2017.json'\n",
    "    zipRef.extract(zipInfo)\n",
    "\n",
    "zipRef.close()\n",
    "\n",
    "with open('input/stf_adi-2017.json', encoding='utf-8') as f:\n",
    "    data = json.load(f)\n",
    "\n",
    "print(\"Loaded \" + str(len(data)) + \" ADIs\")\n",
    "example = random.choice(data)\n",
    "print(\"Random example: \" + str(example[\"classeProcesso\"]) + \" \" + str(example[\"numeroProcesso\"]) + \" - \" + str(example[\"relatorAtual\"]) + \" / \" + str(example[\"assunto\"]))"
   ]
  },
  {
   "cell_type": "code",
   "execution_count": 3,
   "metadata": {},
   "outputs": [
    {
     "name": "stdout",
     "output_type": "stream",
     "text": [
      "Recuperados todos os PDFs com inteiro teor das decisões\n",
      "[{'numeroProcesso': '5634',\n",
      "  'url': 'http://www.stf.jus.br/portal/processo/verProcessoPeca.asp?id=311057090&tipoApp=.pdf'},\n",
      " {'numeroProcesso': '5635',\n",
      "  'url': 'http://www.stf.jus.br/portal/processo/verProcessoPeca.asp?id=311738408&tipoApp=.pdf'},\n",
      " {'numeroProcesso': '5635',\n",
      "  'url': 'http://www.stf.jus.br/portal/processo/verProcessoPeca.asp?id=311650892&tipoApp=.pdf'}]\n"
     ]
    }
   ],
   "source": [
    "import copy\n",
    "\n",
    "processos = list(map(lambda j: {\"andamentos\": j[\"andamentos\"], \"numeroProcesso\": j[\"numeroProcesso\"] }, data))\n",
    "\n",
    "andamentos = []       \n",
    "for processo in processos:\n",
    "\n",
    "    for andamento in processo[\"andamentos\"]:\n",
    "        andamentoIdentificado = copy.copy(andamento)\n",
    "        andamentoIdentificado[\"numeroProcesso\"] = processo[\"numeroProcesso\"]\n",
    "        andamentos.append(andamentoIdentificado)\n",
    "\n",
    "documentos = []\n",
    "for andamento in andamentos:\n",
    "    if (andamento[\"documento\"][\"link\"]):\n",
    "        documentos.append({ \"numeroProcesso\": andamento[\"numeroProcesso\"], \"url\": andamento[\"documento\"][\"link\"]})\n",
    "\n",
    "        \n",
    "print(\"Recuperados todos os PDFs com inteiro teor das decisões\")\n",
    "pprint(documentos[0:3])\n"
   ]
  },
  {
   "cell_type": "code",
   "execution_count": 4,
   "metadata": {},
   "outputs": [
    {
     "name": "stdout",
     "output_type": "stream",
     "text": [
      ".........................................................................................................................................(\"{'url': \"\n",
      " \"'http://www.stf.jus.br/portal/processo/verProcessoPeca.asp?id=311827077&tipoApp=.pdf', \"\n",
      " \"'numeroProcesso': '5684'} => 500 Server Error: Internal Server Error for \"\n",
      " 'url: '\n",
      " 'http://www.stf.jus.br/portal/processo/verProcessoPeca.asp?id=311827077&tipoApp=.pdf')\n",
      "(\"{'url': \"\n",
      " \"'http://www.stf.jus.br/portal/processo/verProcessoPeca.asp?id=311670004&tipoApp=.pdf', \"\n",
      " \"'numeroProcesso': '5684'} => 500 Server Error: Internal Server Error for \"\n",
      " 'url: '\n",
      " 'http://www.stf.jus.br/portal/processo/verProcessoPeca.asp?id=311670004&tipoApp=.pdf')\n",
      ".....................(\"{'url': \"\n",
      " \"'http://www.stf.jus.br/portal/processo/verProcessoPeca.asp?id=312097064&tipoApp=.pdf', \"\n",
      " \"'numeroProcesso': '5697'} => 500 Server Error: Internal Server Error for \"\n",
      " 'url: '\n",
      " 'http://www.stf.jus.br/portal/processo/verProcessoPeca.asp?id=312097064&tipoApp=.pdf')\n",
      "..........................................................................................................................................................(\"{'url': \"\n",
      " \"'http://www.stf.jus.br/portal/processo/verProcessoTexto.asp?id=4427786&tipoApp=RTF', \"\n",
      " \"'numeroProcesso': '5763'} => Invalid content-type: application/rtf; \"\n",
      " 'Charset=iso-8859-1')\n",
      "(\"{'url': \"\n",
      " \"'http://www.stf.jus.br/portal/processo/verProcessoTexto.asp?id=4410956&tipoApp=RTF', \"\n",
      " \"'numeroProcesso': '5763'} => Invalid content-type: application/rtf; \"\n",
      " 'Charset=iso-8859-1')\n",
      "............................................................."
     ]
    }
   ],
   "source": [
    "import sys\n",
    "import modules.downloadutils as downloadutils\n",
    "\n",
    "for doc in documentos:\n",
    "    try:\n",
    "        downloadutils.download_file(doc[\"url\"], 'output/stf-adi-' + str(doc[\"numeroProcesso\"]) + '.pdf', 'application/pdf')\n",
    "        sys.stdout.write('.')\n",
    "    except Exception as e:\n",
    "        pprint(str(doc) + ' => ' + str(e))\n",
    "    "
   ]
  },
  {
   "cell_type": "code",
   "execution_count": 5,
   "metadata": {},
   "outputs": [
    {
     "name": "stdout",
     "output_type": "stream",
     "text": [
      "index <=> PDF\n",
      "0<=>stf-adi-5606.pdf\n",
      "1<=>stf-adi-5625.pdf\n",
      "2<=>stf-adi-5627.pdf\n",
      "3<=>stf-adi-5628.pdf\n",
      "4<=>stf-adi-5630.pdf\n",
      "5<=>stf-adi-5631.pdf\n",
      "6<=>stf-adi-5632.pdf\n",
      "7<=>stf-adi-5633.pdf\n",
      "8<=>stf-adi-5634.pdf\n",
      "9<=>stf-adi-5635.pdf\n",
      "10<=>stf-adi-5636.pdf\n",
      "11<=>stf-adi-5637.pdf\n",
      "12<=>stf-adi-5638.pdf\n",
      "13<=>stf-adi-5639.pdf\n",
      "14<=>stf-adi-5640.pdf\n",
      "15<=>stf-adi-5641.pdf\n",
      "16<=>stf-adi-5642.pdf\n",
      "17<=>stf-adi-5643.pdf\n",
      "18<=>stf-adi-5644.pdf\n",
      "19<=>stf-adi-5645.pdf\n",
      "20<=>stf-adi-5646.pdf\n",
      "21<=>stf-adi-5647.pdf\n",
      "22<=>stf-adi-5648.pdf\n",
      "23<=>stf-adi-5649.pdf\n",
      "24<=>stf-adi-5650.pdf\n",
      "25<=>stf-adi-5651.pdf\n",
      "26<=>stf-adi-5652.pdf\n",
      "27<=>stf-adi-5653.pdf\n",
      "28<=>stf-adi-5654.pdf\n",
      "29<=>stf-adi-5655.pdf\n",
      "30<=>stf-adi-5656.pdf\n",
      "31<=>stf-adi-5657.pdf\n",
      "32<=>stf-adi-5658.pdf\n",
      "33<=>stf-adi-5659.pdf\n",
      "34<=>stf-adi-5660.pdf\n",
      "35<=>stf-adi-5661.pdf\n",
      "36<=>stf-adi-5662.pdf\n",
      "37<=>stf-adi-5663.pdf\n",
      "38<=>stf-adi-5664.pdf\n",
      "39<=>stf-adi-5665.pdf\n",
      "40<=>stf-adi-5666.pdf\n",
      "41<=>stf-adi-5667.pdf\n",
      "42<=>stf-adi-5668.pdf\n",
      "43<=>stf-adi-5669.pdf\n",
      "44<=>stf-adi-5670.pdf\n",
      "45<=>stf-adi-5671.pdf\n",
      "46<=>stf-adi-5672.pdf\n",
      "47<=>stf-adi-5673.pdf\n",
      "48<=>stf-adi-5674.pdf\n",
      "49<=>stf-adi-5675.pdf\n",
      "50<=>stf-adi-5676.pdf\n",
      "51<=>stf-adi-5678.pdf\n",
      "52<=>stf-adi-5679.pdf\n",
      "53<=>stf-adi-5680.pdf\n",
      "54<=>stf-adi-5681.pdf\n",
      "55<=>stf-adi-5682.pdf\n",
      "56<=>stf-adi-5683.pdf\n",
      "57<=>stf-adi-5684.pdf\n",
      "58<=>stf-adi-5685.pdf\n",
      "59<=>stf-adi-5686.pdf\n",
      "60<=>stf-adi-5687.pdf\n",
      "61<=>stf-adi-5688.pdf\n",
      "62<=>stf-adi-5689.pdf\n",
      "63<=>stf-adi-5690.pdf\n",
      "64<=>stf-adi-5691.pdf\n",
      "65<=>stf-adi-5694.pdf\n",
      "66<=>stf-adi-5695.pdf\n",
      "67<=>stf-adi-5696.pdf\n",
      "68<=>stf-adi-5697.pdf\n",
      "69<=>stf-adi-5698.pdf\n",
      "70<=>stf-adi-5700.pdf\n",
      "71<=>stf-adi-5701.pdf\n",
      "72<=>stf-adi-5702.pdf\n",
      "73<=>stf-adi-5703.pdf\n",
      "74<=>stf-adi-5704.pdf\n",
      "75<=>stf-adi-5705.pdf\n",
      "76<=>stf-adi-5706.pdf\n",
      "77<=>stf-adi-5707.pdf\n",
      "78<=>stf-adi-5708.pdf\n",
      "79<=>stf-adi-5709.pdf\n",
      "80<=>stf-adi-5711.pdf\n",
      "81<=>stf-adi-5712.pdf\n",
      "82<=>stf-adi-5713.pdf\n",
      "83<=>stf-adi-5714.pdf\n",
      "84<=>stf-adi-5715.pdf\n",
      "85<=>stf-adi-5716.pdf\n",
      "86<=>stf-adi-5717.pdf\n",
      "87<=>stf-adi-5718.pdf\n",
      "88<=>stf-adi-5720.pdf\n",
      "89<=>stf-adi-5721.pdf\n",
      "90<=>stf-adi-5722.pdf\n",
      "91<=>stf-adi-5723.pdf\n",
      "92<=>stf-adi-5724.pdf\n",
      "93<=>stf-adi-5725.pdf\n",
      "94<=>stf-adi-5726.pdf\n",
      "95<=>stf-adi-5727.pdf\n",
      "96<=>stf-adi-5728.pdf\n",
      "97<=>stf-adi-5729.pdf\n",
      "98<=>stf-adi-5730.pdf\n",
      "99<=>stf-adi-5731.pdf\n",
      "100<=>stf-adi-5732.pdf\n",
      "101<=>stf-adi-5733.pdf\n",
      "102<=>stf-adi-5734.pdf\n",
      "103<=>stf-adi-5735.pdf\n",
      "104<=>stf-adi-5736.pdf\n",
      "105<=>stf-adi-5737.pdf\n",
      "106<=>stf-adi-5738.pdf\n",
      "107<=>stf-adi-5739.pdf\n",
      "108<=>stf-adi-5740.pdf\n",
      "109<=>stf-adi-5741.pdf\n",
      "110<=>stf-adi-5742.pdf\n",
      "111<=>stf-adi-5743.pdf\n",
      "112<=>stf-adi-5744.pdf\n",
      "113<=>stf-adi-5745.pdf\n",
      "114<=>stf-adi-5746.pdf\n",
      "115<=>stf-adi-5747.pdf\n",
      "116<=>stf-adi-5748.pdf\n",
      "117<=>stf-adi-5749.pdf\n",
      "118<=>stf-adi-5750.pdf\n",
      "119<=>stf-adi-5751.pdf\n",
      "120<=>stf-adi-5752.pdf\n",
      "121<=>stf-adi-5753.pdf\n",
      "122<=>stf-adi-5754.pdf\n",
      "123<=>stf-adi-5755.pdf\n",
      "124<=>stf-adi-5756.pdf\n",
      "125<=>stf-adi-5757.pdf\n",
      "126<=>stf-adi-5758.pdf\n",
      "127<=>stf-adi-5759.pdf\n",
      "128<=>stf-adi-5760.pdf\n",
      "129<=>stf-adi-5761.pdf\n",
      "130<=>stf-adi-5762.pdf\n",
      "131<=>stf-adi-5763.pdf\n",
      "132<=>stf-adi-5764.pdf\n",
      "133<=>stf-adi-5765.pdf\n",
      "134<=>stf-adi-5766.pdf\n",
      "135<=>stf-adi-5767.pdf\n",
      "136<=>stf-adi-5768.pdf\n",
      "137<=>stf-adi-5769.pdf\n",
      "138<=>stf-adi-5770.pdf\n",
      "139<=>stf-adi-5771.pdf\n",
      "140<=>stf-adi-5772.pdf\n",
      "141<=>stf-adi-5773.pdf\n",
      "142<=>stf-adi-5774.pdf\n",
      "143<=>stf-adi-5776.pdf\n",
      "144<=>stf-adi-5777.pdf\n",
      "145<=>stf-adi-5778.pdf\n",
      "146<=>stf-adi-5779.pdf\n",
      "147<=>stf-adi-5780.pdf\n",
      "148<=>stf-adi-5781.pdf\n",
      "149<=>stf-adi-5782.pdf\n",
      "150<=>stf-adi-5783.pdf\n",
      "151<=>stf-adi-5784.pdf\n",
      "152<=>stf-adi-5785.pdf\n",
      "153<=>stf-adi-5786.pdf\n",
      "154<=>stf-adi-5787.pdf\n",
      "155<=>stf-adi-5788.pdf\n",
      "156<=>stf-adi-5789.pdf\n",
      "157<=>stf-adi-5790.pdf\n",
      "158<=>stf-adi-5791.pdf\n",
      "159<=>stf-adi-5792.pdf\n",
      "160<=>stf-adi-5793.pdf\n",
      "161<=>stf-adi-5794.pdf\n",
      "162<=>stf-adi-5800.pdf\n",
      "Found 163 pdf files (decisoes)\n"
     ]
    }
   ],
   "source": [
    "from os import listdir\n",
    "from os.path import isfile, join\n",
    "\n",
    "pdfs_path = 'output/stf-adi'\n",
    "\n",
    "pdf_files = [f for f in listdir(pdfs_path) if isfile(join(pdfs_path, f)) and f.lower().endswith('.pdf')]\n",
    "\n",
    "print('index <=> PDF')\n",
    "for idx, pf in enumerate(pdf_files):\n",
    "    print(str(idx) + '<=>' + pf)\n",
    "    \n",
    "print('Found ' + str(len(pdf_files)) + ' pdf files (decisoes)')"
   ]
  },
  {
   "cell_type": "code",
   "execution_count": 6,
   "metadata": {},
   "outputs": [
    {
     "name": "stdout",
     "output_type": "stream",
     "text": [
      "Loading text from pdfs\n",
      "................................................................"
     ]
    },
    {
     "name": "stderr",
     "output_type": "stream",
     "text": [
      "WARNING:pdfminer.layout:Too many boxes (103) to group, skipping.\n"
     ]
    },
    {
     "name": "stdout",
     "output_type": "stream",
     "text": [
      "..................................................."
     ]
    },
    {
     "name": "stderr",
     "output_type": "stream",
     "text": [
      "WARNING:pdfminer.converter:undefined: <PDFTrueTypeFont: basefont='VWXTCZ+ArialMT'>, 160\n",
      "WARNING:pdfminer.converter:undefined: <PDFTrueTypeFont: basefont='VWXTCZ+ArialMT'>, 160\n",
      "WARNING:pdfminer.converter:undefined: <PDFTrueTypeFont: basefont='VWXTCZ+ArialMT'>, 160\n",
      "WARNING:pdfminer.converter:undefined: <PDFTrueTypeFont: basefont='VWXTCZ+ArialMT'>, 160\n",
      "WARNING:pdfminer.converter:undefined: <PDFTrueTypeFont: basefont='VWXTCZ+ArialMT'>, 160\n"
     ]
    },
    {
     "name": "stdout",
     "output_type": "stream",
     "text": [
      "................................................\n",
      "SAMPLE TEXT EXTRACTED FROM PDF\n",
      "Documento assinado digitalmente conforme MP n° 2.200-2/2001 de 24/08/2001, que institui a Infraestrutura de Chaves Públicas Brasileira - ICP-Brasil. O\n",
      "documento pode ser acessado no endereço eletrônico http://www.stf.jus.br/portal/autenticacao/ sob o número 12142542.\n",
      "\n",
      "AÇÃO DIRETA DE INCONSTITUCIONALIDADE 5.628 DISTRITO FEDERALRELATOR:MIN. TEORI ZAVASCKIREQTE.(S):GOVERNADOR DO ESTADO DO ACRE PROC.(A/S)(ES):PROCURADOR-GERAL DO ESTADO DO ACRE INTDO.(A/S):PRESIDENTE DA REPÚBLICA ADV.(A/S):ADVOGADO-GERAL DA UNIÃO INTDO.(A/S):CONGRESSO NACIONAL ADV.(A/S):ADVOGADO-GERAL DA UNIÃO DESPACHO: Trata-se de ação direta de inconstitucionalidade com pedido de medida cautelar, ajuizada pelo Governador do Acre, em que questiona a constitucionalidade do art. 1-A da Lei federal 10.336/2001, com redação dada pela Lei 10.866/2004, que determina: “A União entregará aos Estados e ao Distrito Federal, para ser aplicado, obrigatoriamente, no financiamento de programas de infra-estrutura de transportes, o percentual a que se refere o art. 159, III, da Constituição Federal, calculado sobre a arrecadação da contribuição prevista no art. 1º desta Lei, inclusive os respectivos adicionais, juros e multas moratórias cobrados, administrativa ou judicialmente, deduzidos os valores previstos no art. 8º desta Lei e a parcela desvinculada nos termos do art. 76 do Ato das Disposições Constitucionais Transitórias.” O requerente alega a inconstitucionalidade material da expressão “parcela desvinculada nos termos do art. 76 do Ato das Disposições Constitucionais Transitórias”, por contrariedade aos arts. 159, inciso III e § 4º, 160 e 177, § 4º, todos da CF, pois a repartição de receita fiscal auferida com a tributação da CIDE-Combustíveis não poderia ser minorada pela desvinculação de receitas da União tratada no art. 76 do ADCT. Alega também vício de inconstitucionalidade formal, dado que a matéria tratada na norma impugnada deveria ser disciplinada por lei complementar, como determina o art. 161, II, da CF.Diante da relevância da matéria constitucional suscitada e de seu especial significado para a ordem social e a segurança jurídica, mostra-se adequada a adoção do rito do art. 12 da Lei 9.868/99, pelo que determino: a) solicitem-se as informações, a serem prestadas pela Congresso Nacional no prazo de 10 (dez) dias; e \f",
      "\n",
      "Documento assinado digitalmente conforme MP n° 2.200-2/2001 de 24/08/2001, que institui a Infraestrutura de Chaves Públicas Brasileira - ICP-Brasil. O\n",
      "documento pode ser acessado no endereço eletrônico http://www.stf.jus.br/portal/autenticacao/ sob o número 12142542.\n",
      "\n",
      "ADI 5628 / DF b) em seguida, remetam-se os autos ao Advogado-Geral da União e ao Procurador-Geral da República, sucessivamente, no prazo de 5 (cinco) dias, para a devida manifestação. Publique-se. Intime-se.Brasília, 29 de novembro de 2016.Ministro TEORI ZAVASCKIRelatorDocumento assinado digitalmente2 \f",
      "\n"
     ]
    }
   ],
   "source": [
    "import modules.nlputils as nlputils\n",
    "import sys\n",
    "import slate3k as slate\n",
    "\n",
    "print('Loading text from pdfs')\n",
    "decisoes = []\n",
    "for f in pdf_files:\n",
    "    with open(pdfs_path + '/' + f,'rb') as pf:\n",
    "        pages = slate.PDF(pf)\n",
    "        text = \"\\n\".join(pages)\n",
    "        decisoes.append(text)\n",
    "    sys.stdout.write('.')\n",
    "\n",
    "print('\\nSAMPLE TEXT EXTRACTED FROM PDF')\n",
    "print(decisoes[3])"
   ]
  },
  {
   "cell_type": "code",
   "execution_count": 7,
   "metadata": {},
   "outputs": [],
   "source": [
    "# import os.path\n",
    "# import PyPDF2\n",
    "\n",
    "# with open(\"output/stf-adi/stf-adi-5632.pdf\",'rb') as pf:\n",
    "#     pdfReader = PyPDF2.PdfFileReader(pf)\n",
    "#     num_pages = pdfReader.numPages\n",
    "#     count = 0\n",
    "#     text = ''\n",
    "#     while count < num_pages:\n",
    "#         pageObj = pdfReader.getPage(count)\n",
    "#         count +=1\n",
    "#         text += pageObj.extractText()\n",
    "#     print(text)"
   ]
  },
  {
   "cell_type": "code",
   "execution_count": 8,
   "metadata": {},
   "outputs": [],
   "source": [
    "# import os.path\n",
    "# import slate3k as slate\n",
    "\n",
    "# with open(\"output/stf-adi/stf-adi-5632.pdf\",'rb') as pf:\n",
    "#     extracted_text = slate.PDF(pf)\n",
    "# #     print(extracted_text)     \n"
   ]
  },
  {
   "cell_type": "markdown",
   "metadata": {},
   "source": [
    "### Find similar"
   ]
  },
  {
   "cell_type": "code",
   "execution_count": 26,
   "metadata": {},
   "outputs": [
    {
     "name": "stdout",
     "output_type": "stream",
     "text": [
      "[[1.         0.55881383 0.66126765 ... 0.07087145 0.08406423 0.14998463]\n",
      " [0.55881383 1.         0.66909825 ... 0.07699421 0.10938629 0.04400694]\n",
      " [0.66126765 0.66909825 1.         ... 0.04367822 0.01271179 0.03118266]\n",
      " ...\n",
      " [0.07087145 0.07699421 0.04367822 ... 1.         0.50404712 0.4923654 ]\n",
      " [0.08406423 0.10938629 0.01271179 ... 0.50404712 1.         0.52767272]\n",
      " [0.14998463 0.04400694 0.03118266 ... 0.4923654  0.52767272 1.        ]]\n"
     ]
    }
   ],
   "source": [
    "import numpy as np\n",
    "from sklearn.feature_extraction.text import TfidfVectorizer, CountVectorizer\n",
    "\n",
    "stopwords = set([line.strip() for line in open('stopwords.txt', 'r', encoding='utf-8')])\n",
    "vec = TfidfVectorizer(min_df=0.1, max_df=0.5, analyzer='word', ngram_range=(1, 2), stop_words=stopwords)\n",
    "\n",
    "def cos_similarity(textlist):\n",
    "    tfidf = vec.fit_transform(textlist)\n",
    "    return (tfidf * tfidf.T).toarray()\n",
    "\n",
    "similarity_matrix = cos_similarity(decisoes)\n",
    "print(similarity_matrix)"
   ]
  },
  {
   "cell_type": "code",
   "execution_count": 27,
   "metadata": {},
   "outputs": [
    {
     "name": "stdout",
     "output_type": "stream",
     "text": [
      "stf-adi-5633.pdf ~= stf-adi-5680.pdf: 0.9458844842616504\n",
      "stf-adi-5650.pdf ~= stf-adi-5761.pdf: 0.9451656726516124\n",
      "stf-adi-5654.pdf ~= stf-adi-5662.pdf: 0.9814235665105178\n",
      "stf-adi-5656.pdf ~= stf-adi-5673.pdf: 0.9733944679911054\n",
      "stf-adi-5659.pdf ~= stf-adi-5660.pdf: 0.9208477506800684\n",
      "stf-adi-5660.pdf ~= stf-adi-5659.pdf: 0.9208477506800684\n",
      "stf-adi-5662.pdf ~= stf-adi-5654.pdf: 0.9814235665105178\n",
      "stf-adi-5662.pdf ~= stf-adi-5667.pdf: 0.9085058481856567\n",
      "stf-adi-5663.pdf ~= stf-adi-5747.pdf: 0.9124152649137226\n",
      "stf-adi-5667.pdf ~= stf-adi-5662.pdf: 0.9085058481856567\n",
      "stf-adi-5673.pdf ~= stf-adi-5656.pdf: 0.9733944679911054\n",
      "stf-adi-5680.pdf ~= stf-adi-5633.pdf: 0.9458844842616504\n",
      "stf-adi-5686.pdf ~= stf-adi-5687.pdf: 0.9527235540395138\n",
      "stf-adi-5686.pdf ~= stf-adi-5695.pdf: 0.9517357667247778\n",
      "stf-adi-5687.pdf ~= stf-adi-5686.pdf: 0.9527235540395138\n",
      "stf-adi-5687.pdf ~= stf-adi-5695.pdf: 0.9519888220769862\n",
      "stf-adi-5695.pdf ~= stf-adi-5686.pdf: 0.9517357667247778\n",
      "stf-adi-5695.pdf ~= stf-adi-5687.pdf: 0.9519888220769862\n",
      "stf-adi-5711.pdf ~= stf-adi-5713.pdf: 0.9774365345699005\n",
      "stf-adi-5713.pdf ~= stf-adi-5711.pdf: 0.9774365345699005\n",
      "stf-adi-5717.pdf ~= stf-adi-5718.pdf: 0.9248656961532196\n",
      "stf-adi-5718.pdf ~= stf-adi-5717.pdf: 0.9248656961532196\n",
      "stf-adi-5722.pdf ~= stf-adi-5723.pdf: 0.9525113907650871\n",
      "stf-adi-5723.pdf ~= stf-adi-5722.pdf: 0.9525113907650871\n",
      "stf-adi-5747.pdf ~= stf-adi-5663.pdf: 0.9124152649137226\n",
      "stf-adi-5761.pdf ~= stf-adi-5650.pdf: 0.9451656726516124\n",
      "stf-adi-5773.pdf ~= stf-adi-5774.pdf: 0.900661458964123\n",
      "stf-adi-5774.pdf ~= stf-adi-5773.pdf: 0.900661458964123\n"
     ]
    }
   ],
   "source": [
    "for a in range(len(similarity_matrix)):\n",
    "    for b in range(len(similarity_matrix[a])):\n",
    "        v = similarity_matrix[a][b]\n",
    "        if v>0.9 and a!=b:\n",
    "            print(pdf_files[a] + ' ~= ' + pdf_files[b] + ': ' + str(v))"
   ]
  }
 ],
 "metadata": {
  "kernelspec": {
   "display_name": "Python 3",
   "language": "python",
   "name": "python3"
  },
  "language_info": {
   "codemirror_mode": {
    "name": "ipython",
    "version": 3
   },
   "file_extension": ".py",
   "mimetype": "text/x-python",
   "name": "python",
   "nbconvert_exporter": "python",
   "pygments_lexer": "ipython3",
   "version": "3.5.2"
  }
 },
 "nbformat": 4,
 "nbformat_minor": 2
}
